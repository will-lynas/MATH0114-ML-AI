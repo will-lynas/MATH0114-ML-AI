{
 "cells": [
  {
   "cell_type": "code",
   "execution_count": 40,
   "metadata": {},
   "outputs": [],
   "source": [
    "import numpy as np\n",
    "import matplotlib.pyplot as plt\n",
    "\n",
    "class PolynomialRegression:\n",
    "    def __init__(self, degree, num_samples = 100, sine_scale = 1):\n",
    "        self.degree = degree\n",
    "        self.num_samples = num_samples\n",
    "        self.sine_scale = sine_scale\n",
    "        \n",
    "        self.x = np.linspace(-1, 1, num_samples)\n",
    "        self.y = np.sin(self.x * self.sine_scale * np.pi)\n",
    "        self.X = np.vstack([self.x**i for i in range(degree + 1)]).T\n",
    "        \n",
    "    def check_coefficients(self, coefficients):\n",
    "        assert len(coefficients) == self.degree + 1\n",
    "        \n",
    "    def plot_graph(self, coefficients, show_scatter=False):\n",
    "        self.check_coefficients(coefficients)\n",
    "        x_smooth = np.linspace(-1, 1, 1000)        \n",
    "        y_smooth = np.sin(x_smooth * self.sine_scale * np.pi)\n",
    "        p = np.poly1d(coefficients[::-1])\n",
    "\n",
    "        plt.plot(x_smooth, y_smooth)\n",
    "        if show_scatter:\n",
    "            plt.scatter(self.x, self.y)\n",
    "        plt.plot(x_smooth, p(x_smooth), color='red')\n",
    "        plt.show()\n",
    "        \n",
    "    def mse(self, coefficients):\n",
    "        self.check_coefficients(coefficients)\n",
    "        y_pred = self.X @ coefficients\n",
    "        return 1/(2*self.num_samples) * np.sum((y_pred - self.y) ** 2)\n",
    "        \n",
    "    def gradient(self, coefficients):\n",
    "        self.check_coefficients(coefficients)\n",
    "        y_pred = self.X @ coefficients\n",
    "        return 1/self.num_samples * self.X.T @ (y_pred - self.y)\n",
    "        \n",
    "    def gradient_descent(self, coefficients, learning_rate=0.1, epochs=1000):\n",
    "        self.check_coefficients(coefficients)\n",
    "        errors = {}\n",
    "        for epoch in range(epochs):\n",
    "            error = self.mse(coefficients)\n",
    "            errors[epoch] = error\n",
    "            coefficients -= learning_rate * self.gradient(coefficients)\n",
    "        error = self.mse(coefficients)\n",
    "        errors[epochs] = error\n",
    "        return errors\n",
    "        "
   ]
  },
  {
   "cell_type": "code",
   "execution_count": 44,
   "metadata": {},
   "outputs": [
    {
     "data": {
      "image/png": "[encoded data removed]",
      "text/plain": [
       "<Figure size 640x480 with 1 Axes>"
      ]
     },
     "metadata": {},
     "output_type": "display_data"
    }
   ],
   "source": [
    "degree = 3\n",
    "r = PolynomialRegression(degree)\n",
    "coefficients = np.zeros(degree + 1)\n",
    "errors = r.gradient_descent(coefficients, learning_rate=1, epochs=1000)\n",
    "\n",
    "epochs = np.array(list(errors.keys()))\n",
    "errors = np.array(list(errors.values()))\n",
    "\n",
    "plt.plot(epochs, errors)\n",
    "plt.show()\n"
   ]
  }
 ],
 "metadata": {
  "kernelspec": {
   "display_name": ".venv",
   "language": "python",
   "name": "python3"
  },
  "language_info": {
   "codemirror_mode": {
    "name": "ipython",
    "version": 3
   },
   "file_extension": ".py",
   "mimetype": "text/x-python",
   "name": "python",
   "nbconvert_exporter": "python",
   "pygments_lexer": "ipython3",
   "version": "3.13.1"
  }
 },
 "nbformat": 4,
 "nbformat_minor": 2
}
